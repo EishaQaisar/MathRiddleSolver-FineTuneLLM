{
  "cells": [
    {
      "cell_type": "code",
      "execution_count": 1,
      "metadata": {
        "id": "nhIseQjSL7KY"
      },
      "outputs": [],
      "source": [
        "import numpy as np\n",
        "import tensorflow as tf\n",
        "from transformers import GPT2Tokenizer, TFGPT2LMHeadModel, create_optimizer\n",
        "import os\n"
      ]
    },
    {
      "cell_type": "code",
      "execution_count": 2,
      "metadata": {
        "id": "R6UsBb-lL7Kc"
      },
      "outputs": [],
      "source": [
        "# ---------------------- Preparing Data SET ----------------------\n",
        "# Step 1: CreatING dataset of simple math riddles\n",
        "riddles = [\n",
        "    {\"text\": \"Riddle: What number do you get if you multiply all the numbers on a phone keypad together? Solution: 0\"},\n",
        "    {\"text\": \"Riddle: I am a number. Double me and add 6, and you get 14. What number am I? Solution: 4\"},\n",
        "    {\"text\": \"Riddle: I am a two-digit number. My tens digit is twice my ones digit. What number am I? Solution: 42\"},\n",
        "    {\"text\": \"Riddle: The sum of two consecutive numbers is 15. What are the numbers? Solution: 7 and 8\"},\n",
        "    {\"text\": \"Riddle: If you subtract 4 from me, then divide by 2, you get 3. What number am I? Solution: 10\"},\n",
        "    {\"text\": \"Riddle: I am a three-digit number. My ones digit is 3 times my hundreds digit. My tens digit is 5 more than my hundreds digit. What number am I? Solution: 193\"},\n",
        "    {\"text\": \"Riddle: What is the sum of the first 10 natural numbers? Solution: 55\"},\n",
        "    {\"text\": \"Riddle: If you multiply me by myself, you get 49. What number am I? Solution: 7\"},\n",
        "    {\"text\": \"Riddle: The sum of my digits is 9, and I am a two-digit number. If you reverse my digits, I decrease by 27. What number am I? Solution: 54\"},\n",
        "    {\"text\": \"Riddle: The sum of two numbers is 10, and their product is 24. What are the numbers? Solution: 4 and 6\"},\n",
        "    {\"text\": \"Riddle: I am a two-digit number. If you square me and subtract 11, you get 100. What number am I? Solution: 11\"},\n",
        "    {\"text\": \"Riddle: I am an even number. If you divide me by 2, you get 12. What number am I? Solution: 24\"},\n",
        "    {\"text\": \"Riddle: The sum of my digits is 7. If you reverse my digits, I become a multiple of 7. What number am I? Solution: 34\"},\n",
        "    {\"text\": \"Riddle: If you add 9 to me and then divide by 3, you get my original number. What number am I? Solution: 9\"},\n",
        "    {\"text\": \"Riddle: A farmer has 17 sheep, but all but 9 run away. How many sheep are left? Solution: 9\"},\n",
        "    {\"text\": \"Riddle: I am a two-digit number. The difference between my digits is 4, and my digits multiply to give 45. What number am I? Solution: 59\"},\n",
        "    {\"text\": \"Riddle: The sum of my digits is 12, and I am a three-digit number that is a multiple of 3. What number am I? Solution: 156\"},\n",
        "    {\"text\": \"Riddle: I am a four-digit number. My thousands digit is twice my hundreds digit. My ones digit is half my tens digit. What number am I? Solution: 4286\"},\n",
        "    {\"text\": \"Riddle: I am a prime number between 40 and 50. What number am I? Solution: 47\"},\n",
        "    {\"text\": \"Riddle: I am a fraction. If you add 2 to my numerator, I become 3/4. If you add 3 to my denominator, I become 1/2. What fraction am I? Solution: 1/2\"},\n",
        "    {\"text\": \"Riddle: A clock shows 3:15. What is the angle between the hour and minute hands? Solution: 7.5 degrees\"},\n",
        "    {\"text\": \"Riddle: I am a three-digit number. The sum of my digits is 8, and my ones digit is twice my tens digit. What number am I? Solution: 215\"},\n",
        "    {\"text\": \"Riddle: I am a two-digit number. If you multiply my digits, you get 18, and their sum is 9. What number am I? Solution: 36\"},\n",
        "    {\"text\": \"Riddle: The difference between a two-digit number and the number formed by reversing its digits is 36. If the sum of the digits is 12, what is the number? Solution: 84\"},\n",
        "    {\"text\": \"Riddle: I am a number between 30 and 40. The sum of my digits is 8. If you subtract 9 from me, the result is divisible by 7. What number am I? Solution: 34\"},\n",
        "    {\"text\": \"Riddle: The sum of two consecutive odd numbers is 40. What are the numbers? Solution: 19 and 21\"},\n",
        "    {\"text\": \"Riddle: I am a number. If you multiply me by 5 and subtract 4, you get twice my square. What number am I? Solution: 4\"},\n",
        "    {\"text\": \"Riddle: A train is traveling at 60 mph. How far does it travel in 30 minutes? Solution: 30 miles\"},\n",
        "    {\"text\": \"Riddle: If you add 8 to me and then divide by 4, you get 5. What number am I? Solution: 12\"},\n",
        "    {\"text\": \"Riddle: If you subtract me from 20, the result is double my value. What number am I? Solution: 10\"}\n",
        "]\n",
        "\n",
        "# Save the riddles to a text file\n",
        "with open('math_riddles.txt', 'w') as f:\n",
        "    for riddle in riddles:\n",
        "        f.write(riddle['text'] + '\\n')\n"
      ]
    },
    {
      "cell_type": "code",
      "execution_count": 7,
      "metadata": {
        "colab": {
          "base_uri": "https://localhost:8080/"
        },
        "id": "-m9D56_qL7Ke",
        "outputId": "b2ccc970-9515-4cb4-a57a-fd88b3771aac"
      },
      "outputs": [
        {
          "output_type": "stream",
          "name": "stderr",
          "text": [
            "All PyTorch model weights were used when initializing TFGPT2LMHeadModel.\n",
            "\n",
            "All the weights of TFGPT2LMHeadModel were initialized from the PyTorch model.\n",
            "If your task is similar to the task the model of the checkpoint was trained on, you can already use TFGPT2LMHeadModel for predictions without further training.\n"
          ]
        }
      ],
      "source": [
        "# Load model and tokenizer\n",
        "model_name = \"gpt2-medium\"\n",
        "tokenizer = GPT2Tokenizer.from_pretrained(model_name)\n",
        "model = TFGPT2LMHeadModel.from_pretrained(model_name)\n",
        "\n",
        "# Ensure tokenizer has required tokens\n",
        "if tokenizer.pad_token is None:\n",
        "    tokenizer.pad_token = tokenizer.eos_token\n",
        "\n",
        "# Prepare dataset\n",
        "def load_dataset(file_path, tokenizer, block_size=128):\n",
        "    with open(file_path, 'r', encoding='utf-8') as f:\n",
        "        text = f.read()\n",
        "    tokenized_text = tokenizer.encode(text)\n",
        "    examples = [tokenized_text[i:i + block_size] for i in range(0, len(tokenized_text) - block_size, block_size)]\n",
        "    return tf.data.Dataset.from_tensor_slices(examples)\n",
        "\n",
        "dataset = load_dataset('math_riddles.txt', tokenizer)\n",
        "\n",
        "def add_labels(examples):\n",
        "    attention_mask = [1] * len(examples)\n",
        "    return {\"input_ids\": examples, \"attention_mask\": attention_mask, \"labels\": examples}\n",
        "\n",
        "dataset = dataset.map(add_labels)\n",
        "\n",
        "# Batch the dataset\n",
        "batch_size = 2\n",
        "dataset = dataset.batch(batch_size)\n"
      ]
    },
    {
      "cell_type": "code",
      "execution_count": 10,
      "metadata": {
        "colab": {
          "base_uri": "https://localhost:8080/"
        },
        "id": "6aBJC4zjL7Kf",
        "outputId": "f92dc00f-6945-4995-9b35-3573ef3c5ba7"
      },
      "outputs": [
        {
          "output_type": "stream",
          "name": "stdout",
          "text": [
            "Epoch 1/3\n",
            "4/4 [==============================] - 35s 265ms/step - loss: 1.0881\n",
            "Epoch 2/3\n",
            "4/4 [==============================] - 1s 265ms/step - loss: 0.8965\n",
            "Epoch 3/3\n",
            "4/4 [==============================] - 1s 278ms/step - loss: 0.7882\n"
          ]
        }
      ],
      "source": [
        "# ---------------------- Training Model ----------------------\n",
        "# Set up training parameters\n",
        "training_args = {\n",
        "    'learning_rate': 3e-5,\n",
        "    'training_epochs': 3,\n",
        "    'weight_decay': 0.01,\n",
        "}\n",
        "\n",
        "total_steps = len(dataset) * training_args['training_epochs']\n",
        "warmup_steps = int(0.1 * total_steps)\n",
        "\n",
        "optimizer, lr_schedule = create_optimizer(\n",
        "    init_lr=training_args['learning_rate'],\n",
        "    num_train_steps=total_steps,\n",
        "    num_warmup_steps=warmup_steps,\n",
        "    weight_decay_rate=training_args['weight_decay'],\n",
        ")\n",
        "\n",
        "model.compile(optimizer=optimizer)\n",
        "\n",
        "# Train the model\n",
        "model.fit(dataset, epochs=training_args['training_epochs'])\n",
        "\n",
        "# Save the model\n",
        "model.save(\"math_riddle.keras\")"
      ]
    },
    {
      "cell_type": "code",
      "execution_count": 11,
      "metadata": {
        "id": "bKVwlXdaL7Kg"
      },
      "outputs": [],
      "source": [
        "# ---------------------- Generating Math Riddles ----------------------\n",
        "def generate_riddle(model, tokenizer, prompt=\"Riddle: \", max_length=100, temperature=0.7):\n",
        "    input_ids = tokenizer.encode(prompt, return_tensors='tf')\n",
        "    attention_mask = tf.ones_like(input_ids)\n",
        "    output = model.generate(\n",
        "        input_ids,\n",
        "        attention_mask=attention_mask,\n",
        "        max_length=max_length,\n",
        "        temperature=temperature,\n",
        "        top_p=0.8,\n",
        "        top_k=50,\n",
        "        do_sample=True,\n",
        "        no_repeat_ngram_size=2,\n",
        "        num_return_sequences=1,\n",
        "        pad_token_id=tokenizer.pad_token_id\n",
        "    )\n",
        "    return tokenizer.decode(output[0], skip_special_tokens=True)"
      ]
    },
    {
      "cell_type": "code",
      "execution_count": 13,
      "metadata": {
        "colab": {
          "base_uri": "https://localhost:8080/"
        },
        "id": "DHGpNvRUL7Kg",
        "outputId": "ac88e333-c473-4892-8201-c311200eda5b"
      },
      "outputs": [
        {
          "output_type": "stream",
          "name": "stdout",
          "text": [
            "Generating test riddles...\n",
            "Test Riddle 1: Riddle: _____. What number am I? Solution: 14\n",
            "Riddles: I am a number. My product is a multiple of 4. How many times am my product? Riddle 2: If you multiply me by 4, you get 9. If I were a prime number, how many more times would you add?Solution: 27\n",
            "Solution (Riddler): If the sum of two consecutive odd numbers is odd, then divide by 3, and you obtain 10. Riddler\n",
            "--------------------------------------------------\n",
            "Test Riddle 2: Riddle: _____. The sum of my digits is 4. What number am I? Solution: 6\n",
            "Riddles: I am a number. If you subtract 3 from me, you get 4, and if you add 9 to me I become 5. How many digits am my number?Solution: 7\n",
            "Solution : I'm a multiple of 7.\n",
            "The Riddle : The difference between two numbers is 10. My digits are 4 and my ones are 3. Which number are my\n",
            "--------------------------------------------------\n",
            "Test Riddle 3: Riddle: _____ is a number. What is its sum? Solution: 3\n",
            "Riddles: I am a two-digit number, and my product is 4. If you multiply me by myself, I become 5. How many times am I? Riddle. Solution. 4\n",
            "Solution: 8\n",
            "Rhymes: My product becomes 8 times my square. Riddles. My square is twice my cubit. The product of my digits is 8. Why is my sum 12? Answer\n",
            "--------------------------------------------------\n",
            "Test Riddle 4: Riddle:  If you were a dog, what would you do? Solution: Run away\n",
            "Riddles: I am a two-digit number. What number am I? Riddle. If you multiply me by 3, you get 4. Solution. 9\n",
            "Rsiddle 2: If I were to add 7 to myself, I get 15. Riddler: What is the sum of my digits?Solution: 13\n",
            "Solution 1: 10 + 7 = 15\n",
            "2: 11 +\n",
            "--------------------------------------------------\n",
            "Test Riddle 5: Riddle:  What is the sum of my digits? Solution: 5\n",
            "Riddles: I am a two-digit number. What is my product? Answer: 11\n",
            "Solution: 9\n",
            "Rhymes: 7\n",
            "What are the numbers of the prime numbers?\n",
            "Answer: 24, 28, and 40\n",
            "Number of consecutive odd numbers: 12\n",
            "The number of even numbers is 9, but the number you get is twice the square of your square.\n",
            "Why are there 12 even\n",
            "--------------------------------------------------\n"
          ]
        }
      ],
      "source": [
        "# Generate 5 test riddles\n",
        "print(\"Generating test riddles...\")\n",
        "for i in range(5):\n",
        "    riddle = generate_riddle(model, tokenizer)\n",
        "    print(f\"Test Riddle {i+1}: {riddle}\")\n",
        "    print(\"-\" * 50)"
      ]
    },
    {
      "cell_type": "code",
      "source": [],
      "metadata": {
        "id": "nilsTwYIK9jK"
      },
      "execution_count": 8,
      "outputs": []
    },
    {
      "cell_type": "code",
      "source": [],
      "metadata": {
        "id": "6o4RHHosSS42"
      },
      "execution_count": 8,
      "outputs": []
    },
    {
      "cell_type": "code",
      "source": [],
      "metadata": {
        "id": "sOZ9_PdbSPny"
      },
      "execution_count": null,
      "outputs": []
    }
  ],
  "metadata": {
    "accelerator": "GPU",
    "colab": {
      "gpuType": "T4",
      "provenance": []
    },
    "kernelspec": {
      "display_name": "Python 3",
      "name": "python3"
    },
    "language_info": {
      "name": "python",
      "version": "3.10.10"
    }
  },
  "nbformat": 4,
  "nbformat_minor": 0
}